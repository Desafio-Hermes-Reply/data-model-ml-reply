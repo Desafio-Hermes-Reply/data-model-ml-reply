{
 "cells": [
  {
   "cell_type": "markdown",
   "id": "47e829a2-0569-4831-b3bb-77e1b936e014",
   "metadata": {},
   "source": [
    "# instalando as bibliotecas"
   ]
  },
  {
   "cell_type": "code",
   "execution_count": 1,
   "id": "bd1cd8ad-74b1-49bb-8125-4473e7a6be0e",
   "metadata": {
    "scrolled": true
   },
   "outputs": [
    {
     "name": "stdout",
     "output_type": "stream",
     "text": [
      "Requirement already satisfied: pandas in c:\\users\\vitor\\anaconda3\\envs\\sprint3\\lib\\site-packages (2.3.2)\n",
      "Requirement already satisfied: numpy>=1.26.0 in c:\\users\\vitor\\anaconda3\\envs\\sprint3\\lib\\site-packages (from pandas) (2.3.2)\n",
      "Requirement already satisfied: python-dateutil>=2.8.2 in c:\\users\\vitor\\anaconda3\\envs\\sprint3\\lib\\site-packages (from pandas) (2.9.0.post0)\n",
      "Requirement already satisfied: pytz>=2020.1 in c:\\users\\vitor\\anaconda3\\envs\\sprint3\\lib\\site-packages (from pandas) (2025.2)\n",
      "Requirement already satisfied: tzdata>=2022.7 in c:\\users\\vitor\\anaconda3\\envs\\sprint3\\lib\\site-packages (from pandas) (2025.2)\n",
      "Requirement already satisfied: six>=1.5 in c:\\users\\vitor\\anaconda3\\envs\\sprint3\\lib\\site-packages (from python-dateutil>=2.8.2->pandas) (1.17.0)\n",
      "Requirement already satisfied: scikit-learn in c:\\users\\vitor\\anaconda3\\envs\\sprint3\\lib\\site-packages (1.7.1)\n",
      "Requirement already satisfied: numpy>=1.22.0 in c:\\users\\vitor\\anaconda3\\envs\\sprint3\\lib\\site-packages (from scikit-learn) (2.3.2)\n",
      "Requirement already satisfied: scipy>=1.8.0 in c:\\users\\vitor\\anaconda3\\envs\\sprint3\\lib\\site-packages (from scikit-learn) (1.16.1)\n",
      "Requirement already satisfied: joblib>=1.2.0 in c:\\users\\vitor\\anaconda3\\envs\\sprint3\\lib\\site-packages (from scikit-learn) (1.5.2)\n",
      "Requirement already satisfied: threadpoolctl>=3.1.0 in c:\\users\\vitor\\anaconda3\\envs\\sprint3\\lib\\site-packages (from scikit-learn) (3.6.0)\n",
      "Requirement already satisfied: matplotlib in c:\\users\\vitor\\anaconda3\\envs\\sprint3\\lib\\site-packages (3.10.6)\n",
      "Requirement already satisfied: contourpy>=1.0.1 in c:\\users\\vitor\\anaconda3\\envs\\sprint3\\lib\\site-packages (from matplotlib) (1.3.3)\n",
      "Requirement already satisfied: cycler>=0.10 in c:\\users\\vitor\\anaconda3\\envs\\sprint3\\lib\\site-packages (from matplotlib) (0.12.1)\n",
      "Requirement already satisfied: fonttools>=4.22.0 in c:\\users\\vitor\\anaconda3\\envs\\sprint3\\lib\\site-packages (from matplotlib) (4.59.2)\n",
      "Requirement already satisfied: kiwisolver>=1.3.1 in c:\\users\\vitor\\anaconda3\\envs\\sprint3\\lib\\site-packages (from matplotlib) (1.4.9)\n",
      "Requirement already satisfied: numpy>=1.23 in c:\\users\\vitor\\anaconda3\\envs\\sprint3\\lib\\site-packages (from matplotlib) (2.3.2)\n",
      "Requirement already satisfied: packaging>=20.0 in c:\\users\\vitor\\anaconda3\\envs\\sprint3\\lib\\site-packages (from matplotlib) (25.0)\n",
      "Requirement already satisfied: pillow>=8 in c:\\users\\vitor\\anaconda3\\envs\\sprint3\\lib\\site-packages (from matplotlib) (11.3.0)\n",
      "Requirement already satisfied: pyparsing>=2.3.1 in c:\\users\\vitor\\anaconda3\\envs\\sprint3\\lib\\site-packages (from matplotlib) (3.2.3)\n",
      "Requirement already satisfied: python-dateutil>=2.7 in c:\\users\\vitor\\anaconda3\\envs\\sprint3\\lib\\site-packages (from matplotlib) (2.9.0.post0)\n",
      "Requirement already satisfied: six>=1.5 in c:\\users\\vitor\\anaconda3\\envs\\sprint3\\lib\\site-packages (from python-dateutil>=2.7->matplotlib) (1.17.0)\n",
      "Requirement already satisfied: seaborn in c:\\users\\vitor\\anaconda3\\envs\\sprint3\\lib\\site-packages (0.13.2)\n",
      "Requirement already satisfied: numpy!=1.24.0,>=1.20 in c:\\users\\vitor\\anaconda3\\envs\\sprint3\\lib\\site-packages (from seaborn) (2.3.2)\n",
      "Requirement already satisfied: pandas>=1.2 in c:\\users\\vitor\\anaconda3\\envs\\sprint3\\lib\\site-packages (from seaborn) (2.3.2)\n",
      "Requirement already satisfied: matplotlib!=3.6.1,>=3.4 in c:\\users\\vitor\\anaconda3\\envs\\sprint3\\lib\\site-packages (from seaborn) (3.10.6)\n",
      "Requirement already satisfied: contourpy>=1.0.1 in c:\\users\\vitor\\anaconda3\\envs\\sprint3\\lib\\site-packages (from matplotlib!=3.6.1,>=3.4->seaborn) (1.3.3)\n",
      "Requirement already satisfied: cycler>=0.10 in c:\\users\\vitor\\anaconda3\\envs\\sprint3\\lib\\site-packages (from matplotlib!=3.6.1,>=3.4->seaborn) (0.12.1)\n",
      "Requirement already satisfied: fonttools>=4.22.0 in c:\\users\\vitor\\anaconda3\\envs\\sprint3\\lib\\site-packages (from matplotlib!=3.6.1,>=3.4->seaborn) (4.59.2)\n",
      "Requirement already satisfied: kiwisolver>=1.3.1 in c:\\users\\vitor\\anaconda3\\envs\\sprint3\\lib\\site-packages (from matplotlib!=3.6.1,>=3.4->seaborn) (1.4.9)\n",
      "Requirement already satisfied: packaging>=20.0 in c:\\users\\vitor\\anaconda3\\envs\\sprint3\\lib\\site-packages (from matplotlib!=3.6.1,>=3.4->seaborn) (25.0)\n",
      "Requirement already satisfied: pillow>=8 in c:\\users\\vitor\\anaconda3\\envs\\sprint3\\lib\\site-packages (from matplotlib!=3.6.1,>=3.4->seaborn) (11.3.0)\n",
      "Requirement already satisfied: pyparsing>=2.3.1 in c:\\users\\vitor\\anaconda3\\envs\\sprint3\\lib\\site-packages (from matplotlib!=3.6.1,>=3.4->seaborn) (3.2.3)\n",
      "Requirement already satisfied: python-dateutil>=2.7 in c:\\users\\vitor\\anaconda3\\envs\\sprint3\\lib\\site-packages (from matplotlib!=3.6.1,>=3.4->seaborn) (2.9.0.post0)\n",
      "Requirement already satisfied: pytz>=2020.1 in c:\\users\\vitor\\anaconda3\\envs\\sprint3\\lib\\site-packages (from pandas>=1.2->seaborn) (2025.2)\n",
      "Requirement already satisfied: tzdata>=2022.7 in c:\\users\\vitor\\anaconda3\\envs\\sprint3\\lib\\site-packages (from pandas>=1.2->seaborn) (2025.2)\n",
      "Requirement already satisfied: six>=1.5 in c:\\users\\vitor\\anaconda3\\envs\\sprint3\\lib\\site-packages (from python-dateutil>=2.7->matplotlib!=3.6.1,>=3.4->seaborn) (1.17.0)\n"
     ]
    }
   ],
   "source": [
    "!pip install pandas\n",
    "!pip install scikit-learn\n",
    "!pip install matplotlib\n",
    "!pip install seaborn"
   ]
  },
  {
   "cell_type": "markdown",
   "id": "01dcbc7d-1ad1-4ca4-aac9-f618a0235f83",
   "metadata": {},
   "source": [
    "# importando as bibliotecas"
   ]
  },
  {
   "cell_type": "code",
   "execution_count": 13,
   "id": "fb9b93c7-9360-47cf-ab39-69d561850576",
   "metadata": {},
   "outputs": [],
   "source": [
    "# Importa a biblioteca Pandas para manipulação de dados\n",
    "import pandas as pd\n",
    "import os \n",
    "\n",
    "# Importa o NumPy para operações numéricas (se precisar)\n",
    "import numpy as np\n",
    "\n",
    "# Importa as ferramentas do Scikit-learn\n",
    "from sklearn.model_selection import train_test_split\n",
    "from sklearn.ensemble import RandomForestRegressor\n",
    "from sklearn.metrics import mean_squared_error, r2_score\n",
    "\n",
    "# Importa as bibliotecas para visualização de dados\n",
    "import matplotlib.pyplot as plt\n",
    "import seaborn as sns"
   ]
  },
  {
   "cell_type": "markdown",
   "id": "f7a94d60-a88a-4287-a001-04f0673b7c2b",
   "metadata": {},
   "source": [
    "# carregando os dados"
   ]
  },
  {
   "cell_type": "code",
   "execution_count": 3,
   "id": "1d80ac60-8004-4cc1-8e47-218b5a428d8a",
   "metadata": {},
   "outputs": [
    {
     "data": {
      "text/html": [
       "<div>\n",
       "<style scoped>\n",
       "    .dataframe tbody tr th:only-of-type {\n",
       "        vertical-align: middle;\n",
       "    }\n",
       "\n",
       "    .dataframe tbody tr th {\n",
       "        vertical-align: top;\n",
       "    }\n",
       "\n",
       "    .dataframe thead th {\n",
       "        text-align: right;\n",
       "    }\n",
       "</style>\n",
       "<table border=\"1\" class=\"dataframe\">\n",
       "  <thead>\n",
       "    <tr style=\"text-align: right;\">\n",
       "      <th></th>\n",
       "      <th>id</th>\n",
       "      <th>timestamp</th>\n",
       "      <th>temperatura</th>\n",
       "      <th>vibracao</th>\n",
       "      <th>corrente</th>\n",
       "      <th>velocidade</th>\n",
       "      <th>posicao</th>\n",
       "      <th>pressao</th>\n",
       "      <th>nivel</th>\n",
       "      <th>qualidade_ar</th>\n",
       "      <th>umidade</th>\n",
       "      <th>tensao</th>\n",
       "      <th>fumaca</th>\n",
       "    </tr>\n",
       "  </thead>\n",
       "  <tbody>\n",
       "    <tr>\n",
       "      <th>0</th>\n",
       "      <td>1</td>\n",
       "      <td>2025-06-07T18:22:00.542865Z</td>\n",
       "      <td>25.3</td>\n",
       "      <td>0.0</td>\n",
       "      <td>1.5</td>\n",
       "      <td>120</td>\n",
       "      <td>45</td>\n",
       "      <td>101.3</td>\n",
       "      <td>75</td>\n",
       "      <td>80</td>\n",
       "      <td>60.0</td>\n",
       "      <td>220.0</td>\n",
       "      <td>0</td>\n",
       "    </tr>\n",
       "    <tr>\n",
       "      <th>1</th>\n",
       "      <td>2</td>\n",
       "      <td>2025-06-08T00:51:20.487094Z</td>\n",
       "      <td>38.1</td>\n",
       "      <td>4.5</td>\n",
       "      <td>7.0</td>\n",
       "      <td>1068</td>\n",
       "      <td>1</td>\n",
       "      <td>7.0</td>\n",
       "      <td>3</td>\n",
       "      <td>410</td>\n",
       "      <td>42.5</td>\n",
       "      <td>224.0</td>\n",
       "      <td>0</td>\n",
       "    </tr>\n",
       "    <tr>\n",
       "      <th>2</th>\n",
       "      <td>3</td>\n",
       "      <td>2025-06-08T00:51:32.000514Z</td>\n",
       "      <td>35.5</td>\n",
       "      <td>0.9</td>\n",
       "      <td>6.1</td>\n",
       "      <td>1165</td>\n",
       "      <td>0</td>\n",
       "      <td>7.8</td>\n",
       "      <td>18</td>\n",
       "      <td>304</td>\n",
       "      <td>37.7</td>\n",
       "      <td>213.2</td>\n",
       "      <td>0</td>\n",
       "    </tr>\n",
       "    <tr>\n",
       "      <th>3</th>\n",
       "      <td>4</td>\n",
       "      <td>2025-06-08T00:53:20.913343Z</td>\n",
       "      <td>35.0</td>\n",
       "      <td>2.8</td>\n",
       "      <td>3.2</td>\n",
       "      <td>1219</td>\n",
       "      <td>1</td>\n",
       "      <td>7.4</td>\n",
       "      <td>24</td>\n",
       "      <td>386</td>\n",
       "      <td>46.2</td>\n",
       "      <td>222.7</td>\n",
       "      <td>0</td>\n",
       "    </tr>\n",
       "    <tr>\n",
       "      <th>4</th>\n",
       "      <td>5</td>\n",
       "      <td>2025-06-08T00:53:41.701267Z</td>\n",
       "      <td>38.3</td>\n",
       "      <td>4.0</td>\n",
       "      <td>4.4</td>\n",
       "      <td>1443</td>\n",
       "      <td>0</td>\n",
       "      <td>4.6</td>\n",
       "      <td>98</td>\n",
       "      <td>202</td>\n",
       "      <td>45.3</td>\n",
       "      <td>212.7</td>\n",
       "      <td>0</td>\n",
       "    </tr>\n",
       "  </tbody>\n",
       "</table>\n",
       "</div>"
      ],
      "text/plain": [
       "   id                    timestamp  temperatura  vibracao  corrente  \\\n",
       "0   1  2025-06-07T18:22:00.542865Z         25.3       0.0       1.5   \n",
       "1   2  2025-06-08T00:51:20.487094Z         38.1       4.5       7.0   \n",
       "2   3  2025-06-08T00:51:32.000514Z         35.5       0.9       6.1   \n",
       "3   4  2025-06-08T00:53:20.913343Z         35.0       2.8       3.2   \n",
       "4   5  2025-06-08T00:53:41.701267Z         38.3       4.0       4.4   \n",
       "\n",
       "   velocidade  posicao  pressao  nivel  qualidade_ar  umidade  tensao  fumaca  \n",
       "0         120       45    101.3     75            80     60.0   220.0       0  \n",
       "1        1068        1      7.0      3           410     42.5   224.0       0  \n",
       "2        1165        0      7.8     18           304     37.7   213.2       0  \n",
       "3        1219        1      7.4     24           386     46.2   222.7       0  \n",
       "4        1443        0      4.6     98           202     45.3   212.7       0  "
      ]
     },
     "execution_count": 3,
     "metadata": {},
     "output_type": "execute_result"
    }
   ],
   "source": [
    "df = pd.read_csv('data/dados_sensores.csv')\n",
    "df.head()"
   ]
  },
  {
   "cell_type": "markdown",
   "id": "04295d77-7a14-4527-b026-f185cf8c1712",
   "metadata": {},
   "source": [
    "# preparação dos dados e definição do problema"
   ]
  },
  {
   "cell_type": "markdown",
   "id": "0767641e-dfc5-42d5-9cc0-7003817a758d",
   "metadata": {},
   "source": [
    "considerando um ambiente industrial, é coerente trabalhar com a temperatura"
   ]
  },
  {
   "cell_type": "code",
   "execution_count": 10,
   "id": "44745bd1-67bf-461c-8a3f-a65c3cfe2ccd",
   "metadata": {},
   "outputs": [
    {
     "name": "stdout",
     "output_type": "stream",
     "text": [
      "Dimensão dos dados X (preditoras): (500, 2)\n",
      "Dimensão dos dados Y (alvo): (500,)\n"
     ]
    }
   ],
   "source": [
    "df['timestamp'] = pd.to_datetime(df['timestamp'])\n",
    "Y = df['temperatura']\n",
    "X = df[['velocidade', 'corrente']]\n",
    "print(\"Dimensão dos dados X (preditoras):\", X.shape)\n",
    "print(\"Dimensão dos dados Y (alvo):\", Y.shape)"
   ]
  },
  {
   "cell_type": "markdown",
   "id": "97960475-a69e-4470-afc4-456050ec815d",
   "metadata": {},
   "source": [
    "# divisão dos dados em treino e teste"
   ]
  },
  {
   "cell_type": "code",
   "execution_count": 11,
   "id": "fe681026-4680-402e-98a2-0609610f0941",
   "metadata": {},
   "outputs": [
    {
     "name": "stdout",
     "output_type": "stream",
     "text": [
      "\n",
      "Conjunto de treino: 400 amostras\n",
      "Conjunto de teste: 100 amostras\n"
     ]
    }
   ],
   "source": [
    "X_train, X_test, y_train, y_test = train_test_split(X, y, test_size=0.20, random_state=42)\n",
    "\n",
    "print(f\"\\nConjunto de treino: {len(X_train)} amostras\")\n",
    "print(f\"Conjunto de teste: {len(X_test)} amostras\")"
   ]
  },
  {
   "cell_type": "markdown",
   "id": "ce69c25c-b617-403e-acd5-2f190fe9bac7",
   "metadata": {},
   "source": [
    "# treinamento e predição do modelo"
   ]
  },
  {
   "cell_type": "markdown",
   "id": "73c7e6e2-2a22-49f5-9c1c-76821cfc1552",
   "metadata": {},
   "source": [
    "sera utilizado o ramdom forest por ser mais robusto e capaz de capturar ralações complexas e não lineares no dados,\n",
    "sendo mais coerenta a um ambiente industrial"
   ]
  },
  {
   "cell_type": "code",
   "execution_count": 17,
   "id": "9bbeeff4-ca26-4e92-a543-904946bc56f9",
   "metadata": {},
   "outputs": [],
   "source": [
    "model = RandomForestRegressor(n_estimators=100, random_state=42)\n",
    "model.fit(X_train, y_train)\n",
    "y_pred = model.predict(X_test)"
   ]
  },
  {
   "cell_type": "markdown",
   "id": "833fd593-f456-4890-b648-d862bc0a2200",
   "metadata": {},
   "source": [
    "# avaliação do modelo"
   ]
  },
  {
   "cell_type": "code",
   "execution_count": 18,
   "id": "243f1f5d-2ce0-4d20-9747-502055032984",
   "metadata": {},
   "outputs": [
    {
     "name": "stdout",
     "output_type": "stream",
     "text": [
      "\n",
      "Mean Squared Error (MSE): 4.71\n",
      "R-squared (R²): -0.23\n"
     ]
    }
   ],
   "source": [
    "mse = mean_squared_error(y_test, y_pred)\n",
    "r2 = r2_score(y_test, y_pred)\n",
    "\n",
    "print(f\"\\nMean Squared Error (MSE): {mse:.2f}\")\n",
    "print(f\"R-squared (R²): {r2:.2f}\")"
   ]
  },
  {
   "cell_type": "markdown",
   "id": "cfec5550-42f1-4cdf-8b20-809932b896b8",
   "metadata": {},
   "source": [
    "# visualização dos resultados"
   ]
  },
  {
   "cell_type": "code",
   "execution_count": 22,
   "id": "f87b6d8c-f980-4182-9bf6-4dec8032cbfb",
   "metadata": {},
   "outputs": [
    {
     "data": {
      "image/png": "[encoded data removed]",
      "text/plain": [
       "<Figure size 1000x600 with 1 Axes>"
      ]
     },
     "metadata": {},
     "output_type": "display_data"
    }
   ],
   "source": [
    "# Cria um DataFrame para a visualização\n",
    "resultados_df = pd.DataFrame({'Valores Reais': y_test, 'Previsões': y_pred})\n",
    "\n",
    "# Plota a comparação entre os valores reais e as previsões\n",
    "plt.figure(figsize=(10, 6))\n",
    "sns.scatterplot(x='Valores Reais', y='Previsões', data=resultados_df)\n",
    "\n",
    "# Adiciona uma linha de previsão perfeita para comparação\n",
    "# Esta linha de 45 graus (y=x) representa as previsões perfeitas\n",
    "limites = [min(y_test.min(), y_pred.min()), max(y_test.max(), y_pred.max())]\n",
    "plt.plot(limites, limites, color='red', linestyle='--', linewidth=2, label='Previsão Perfeita')\n",
    "\n",
    "plt.title('Comparação de Valores Reais vs. Previsões')\n",
    "plt.xlabel('Temperatura Real do Sensor')\n",
    "plt.ylabel('Temperatura Prevista pelo Modelo')\n",
    "plt.legend()\n",
    "plt.grid(True)\n",
    "plt.show()"
   ]
  }
 ],
 "metadata": {
  "kernelspec": {
   "display_name": "Python 3 (ipykernel)",
   "language": "python",
   "name": "python3"
  },
  "language_info": {
   "codemirror_mode": {
    "name": "ipython",
    "version": 3
   },
   "file_extension": ".py",
   "mimetype": "text/x-python",
   "name": "python",
   "nbconvert_exporter": "python",
   "pygments_lexer": "ipython3",
   "version": "3.12.11"
  }
 },
 "nbformat": 4,
 "nbformat_minor": 5
}
